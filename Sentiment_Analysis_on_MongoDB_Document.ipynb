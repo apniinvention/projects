{
  "nbformat": 4,
  "nbformat_minor": 0,
  "metadata": {
    "colab": {
      "provenance": [],
      "authorship_tag": "ABX9TyNflsUw3sE/E5DkZEyqbG6H",
      "include_colab_link": true
    },
    "kernelspec": {
      "name": "python3",
      "display_name": "Python 3"
    },
    "language_info": {
      "name": "python"
    }
  },
  "cells": [
    {
      "cell_type": "markdown",
      "metadata": {
        "id": "view-in-github",
        "colab_type": "text"
      },
      "source": [
        "<a href=\"https://colab.research.google.com/github/apniinvention/projects/blob/main/Sentiment_Analysis_on_MongoDB_Document.ipynb\" target=\"_parent\"><img src=\"https://colab.research.google.com/assets/colab-badge.svg\" alt=\"Open In Colab\"/></a>"
      ]
    },
    {
      "cell_type": "markdown",
      "source": [
        "**Objective** : To showcase how the Followers Count is Prortional to the sentiment of a user. Generally the user with high follower doesnt post negtive tweets.\n",
        "\n",
        "1. Fetch all data from MongoDB\n",
        "2. Iterate each data point & run the sentiment analysis\n",
        "3. Once the sentiment prediction on tweet is done, update the document using its id\n",
        "4. Go to MongoDB dashboard & draw the graph"
      ],
      "metadata": {
        "id": "i52u9Idyf1ds"
      }
    },
    {
      "cell_type": "code",
      "execution_count": 1,
      "metadata": {
        "id": "rzC4qr25vCXc"
      },
      "outputs": [],
      "source": [
        "\n",
        "# import the dependency\n",
        "import re\n",
        "import pymongo # for MongoDB\n",
        "from textblob import TextBlob # for sentimental analysis \n",
        "\n"
      ]
    },
    {
      "cell_type": "code",
      "source": [
        "# MongoDB Connection\n",
        "url = \"mongodb+srv://apniinvention:<password>@cluster0.qngzsud.mongodb.net/\"\n",
        "client = pymongo.MongoClient(url)"
      ],
      "metadata": {
        "id": "S6dgXdXYjp1O"
      },
      "execution_count": 2,
      "outputs": []
    },
    {
      "cell_type": "code",
      "source": [
        "# Sentiment Analysis Code\n",
        "\n",
        "# As the tweet might contain special character or some irrelevant data, so we need to clean before predicting the sentiment\n",
        "def clean_text(text):\n",
        "    text = str(text).lower()\n",
        "    text = re.sub(r'#(\\w+)', r'<\\1>', text)\n",
        "    text = re.sub(r'\\n', ' ', text) # Remove /n\n",
        "    text = re.sub(r'@[A-Za-z0-9]+', '<user>', text) # Remove and replace @mention\n",
        "    text = re.sub(r'RT\\s+', '', text) # Remove RT\n",
        "    text = re.sub(r'https?://\\S+\\b/?', '<url>', text) # Remove and replace links\n",
        "    return text\n",
        "\n",
        "# sentiment prediction for each tweet\n",
        "def senti_pred(text):\n",
        "    # create TextBlob object of passed tweet text\n",
        "    analysis = TextBlob(clean_text(text))\n",
        "    # set sentiment\n",
        "    if analysis.sentiment.polarity > 0:\n",
        "      return 'positive'\n",
        "    elif analysis.sentiment.polarity == 0:\n",
        "      return 'neutral'\n",
        "    else:\n",
        "      return 'negative'\n"
      ],
      "metadata": {
        "id": "SD3Ddbj32k-O"
      },
      "execution_count": 3,
      "outputs": []
    },
    {
      "cell_type": "code",
      "source": [
        "#update in mongoDB\n",
        "def update_senti(id,sentiment):\n",
        "  res = client.update_one({\"_id\":id},{\"$set\":{\"sentiment\":sentiment}},upsert=True)\n",
        "\n",
        "  "
      ],
      "metadata": {
        "id": "Yw4bo4525w8D"
      },
      "execution_count": 4,
      "outputs": []
    },
    {
      "cell_type": "code",
      "source": [
        "#Iterate each document and run the sentiment prediction \n",
        "\n",
        "#connect to twitter database then tweets collection in mongodb\n",
        "client = client[\"twitter\"][\"tweets\"]\n",
        "\n",
        "#get all data \n",
        "get_all = client.find({})\n",
        "for each in get_all:\n",
        "  \n",
        "  if 'text' in each:\n",
        "    \n",
        "    sentiment = senti_pred(each['text']) # sentiment prediction\n",
        "    update_senti(each['_id'],sentiment)  # update the existing mongodb document\n",
        "    \n",
        "\n",
        "  "
      ],
      "metadata": {
        "id": "GaQv-ueG1l8C"
      },
      "execution_count": 78,
      "outputs": []
    },
    {
      "cell_type": "markdown",
      "source": [
        "Get Sentiment count\n"
      ],
      "metadata": {
        "id": "mMOIP4cJ_1MT"
      }
    },
    {
      "cell_type": "code",
      "source": [
        "result = client.aggregate([\n",
        "    {\"$group\" : {\"_id\":\"$sentiment\", \"count\":{\"$sum\":1}}}\n",
        "])"
      ],
      "metadata": {
        "id": "fuIvjC5-1iYb"
      },
      "execution_count": 93,
      "outputs": []
    },
    {
      "cell_type": "code",
      "source": [
        "# data under consideration\n",
        "senti_result = {}\n",
        "for each in result:\n",
        "  senti_result[each['_id']] = each['count']\n",
        "print(senti_result)\n",
        "\n",
        " \n",
        "    "
      ],
      "metadata": {
        "colab": {
          "base_uri": "https://localhost:8080/"
        },
        "id": "KTz26OZee_j_",
        "outputId": "e7210396-c5c8-4bc8-8092-4248b7cefc91"
      },
      "execution_count": 94,
      "outputs": [
        {
          "output_type": "stream",
          "name": "stdout",
          "text": [
            "{'negative': 6310, 'positive': 17092, None: 11717, 'neutral': 16583}\n"
          ]
        }
      ]
    },
    {
      "cell_type": "code",
      "source": [],
      "metadata": {
        "id": "5h37IbPFfySR"
      },
      "execution_count": null,
      "outputs": []
    }
  ]
}